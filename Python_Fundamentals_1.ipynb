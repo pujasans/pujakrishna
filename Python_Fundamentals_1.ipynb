{
  "cells": [
    {
      "cell_type": "markdown",
      "metadata": {
        "id": "view-in-github",
        "colab_type": "text"
      },
      "source": [
        "<a href=\"https://colab.research.google.com/github/pujasans/pujakrishna/blob/main/Python_Fundamentals_1.ipynb\" target=\"_parent\"><img src=\"https://colab.research.google.com/assets/colab-badge.svg\" alt=\"Open In Colab\"/></a>"
      ]
    },
    {
      "cell_type": "markdown",
      "id": "797e555a",
      "metadata": {
        "id": "797e555a"
      },
      "source": [
        "# Python Fundamentals - 1"
      ]
    },
    {
      "cell_type": "code",
      "source": [
        "print (\"hi\")"
      ],
      "metadata": {
        "id": "WLjIbogumNsa",
        "outputId": "b4385731-bc57-4532-b4bf-97772b4085d3",
        "colab": {
          "base_uri": "https://localhost:8080/"
        }
      },
      "id": "WLjIbogumNsa",
      "execution_count": 2,
      "outputs": [
        {
          "output_type": "stream",
          "name": "stdout",
          "text": [
            "hi\n"
          ]
        }
      ]
    },
    {
      "cell_type": "markdown",
      "id": "f3fb96dc",
      "metadata": {
        "id": "f3fb96dc"
      },
      "source": [
        "### Basics"
      ]
    },
    {
      "cell_type": "code",
      "execution_count": null,
      "id": "00b27071",
      "metadata": {
        "id": "00b27071"
      },
      "outputs": [],
      "source": [
        "# This is a single-line comment\n",
        "\n",
        "\"\"\"\n",
        "This is a multi-line comment\n",
        "And this is the second line\n",
        "\"\"\""
      ]
    },
    {
      "cell_type": "code",
      "execution_count": 1,
      "id": "10d084bc",
      "metadata": {
        "id": "10d084bc",
        "outputId": "aecb2224-a514-42b3-fb1c-c5207159d85c",
        "colab": {
          "base_uri": "https://localhost:8080/"
        }
      },
      "outputs": [
        {
          "output_type": "stream",
          "name": "stdout",
          "text": [
            "Hello World!\n",
            "\n",
            "How are you?\n"
          ]
        }
      ],
      "source": [
        "# print function\n",
        "print(\"Hello World!\\n\")\n",
        "# print()\n",
        "print(\"How are you?\")"
      ]
    },
    {
      "cell_type": "code",
      "execution_count": null,
      "id": "686d68b6",
      "metadata": {
        "id": "686d68b6",
        "outputId": "1ac7ecbd-9db8-4e85-e769-27b7a10f61c3"
      },
      "outputs": [
        {
          "name": "stdout",
          "output_type": "stream",
          "text": [
            "a b\n"
          ]
        }
      ],
      "source": [
        "print('a', end=' ')\n",
        "print('b')"
      ]
    },
    {
      "cell_type": "code",
      "execution_count": null,
      "id": "f1779f01",
      "metadata": {
        "id": "f1779f01",
        "outputId": "a038f4f7-c061-43bc-98ad-920d62d81745"
      },
      "outputs": [
        {
          "name": "stdout",
          "output_type": "stream",
          "text": [
            "123\n"
          ]
        },
        {
          "data": {
            "text/plain": [
              "'123'"
            ]
          },
          "execution_count": 11,
          "metadata": {},
          "output_type": "execute_result"
        }
      ],
      "source": [
        "# input function\n",
        "input(\"Enter your name: \")\n",
        "# input()"
      ]
    },
    {
      "cell_type": "markdown",
      "id": "951280d0",
      "metadata": {
        "id": "951280d0"
      },
      "source": [
        "### Variables & Data Types"
      ]
    },
    {
      "cell_type": "code",
      "execution_count": null,
      "id": "9932b2d3",
      "metadata": {
        "id": "9932b2d3",
        "outputId": "92939acc-a9e6-4d29-9b84-9d83175b20ff"
      },
      "outputs": [
        {
          "name": "stdout",
          "output_type": "stream",
          "text": [
            "Matt\n",
            "<class 'str'>\n"
          ]
        }
      ],
      "source": [
        "# string\n",
        "_name = \"Matt\"\n",
        "print(_name)\n",
        "print(type(_name))"
      ]
    },
    {
      "cell_type": "code",
      "execution_count": null,
      "id": "7e5b8d65",
      "metadata": {
        "id": "7e5b8d65",
        "outputId": "cdf93f95-fbea-492d-97dc-e441dd5a9e08"
      },
      "outputs": [
        {
          "name": "stdout",
          "output_type": "stream",
          "text": [
            "20\n",
            "<class 'int'>\n"
          ]
        }
      ],
      "source": [
        "# integer\n",
        "age1 = 20\n",
        "print(age1)\n",
        "print(type(age1))"
      ]
    },
    {
      "cell_type": "code",
      "execution_count": null,
      "id": "21da92de",
      "metadata": {
        "id": "21da92de",
        "outputId": "8ceb8f9e-55c4-4a6f-b416-04734dc7af5d"
      },
      "outputs": [
        {
          "name": "stdout",
          "output_type": "stream",
          "text": [
            "True\n",
            "<class 'bool'>\n"
          ]
        }
      ],
      "source": [
        "# boolean\n",
        "is_married = True\n",
        "print(is_married)\n",
        "print(type(is_married))"
      ]
    },
    {
      "cell_type": "code",
      "execution_count": null,
      "id": "7d5c3bdc",
      "metadata": {
        "id": "7d5c3bdc",
        "outputId": "c8a7788f-ddb7-4ae2-ffa3-d0a2c0a70910"
      },
      "outputs": [
        {
          "name": "stdout",
          "output_type": "stream",
          "text": [
            "3.7\n",
            "<class 'float'>\n"
          ]
        }
      ],
      "source": [
        "# float\n",
        "gpa = 3.7\n",
        "print(gpa)\n",
        "print(type(gpa))"
      ]
    },
    {
      "cell_type": "code",
      "execution_count": null,
      "id": "7539930b",
      "metadata": {
        "id": "7539930b",
        "outputId": "d2f2d7ff-020f-4482-bc01-3d991be47401"
      },
      "outputs": [
        {
          "name": "stdout",
          "output_type": "stream",
          "text": [
            "<class 'int'>\n",
            "<class 'str'>\n"
          ]
        }
      ],
      "source": [
        "# you can overwrite (re-assign) values to variables\n",
        "age = 30\n",
        "print(type(age))\n",
        "\n",
        "age = \"30\"\n",
        "print(type(age))"
      ]
    },
    {
      "cell_type": "code",
      "execution_count": null,
      "id": "dac57f71",
      "metadata": {
        "id": "dac57f71",
        "outputId": "606e96fd-49f8-4a62-df38-75801fa1c281"
      },
      "outputs": [
        {
          "name": "stdout",
          "output_type": "stream",
          "text": [
            "True\n"
          ]
        }
      ],
      "source": [
        "# What is the output?\n",
        "a = 5\n",
        "a = \"abcd\"\n",
        "a = True\n",
        "\n",
        "print(a)"
      ]
    },
    {
      "cell_type": "code",
      "execution_count": null,
      "id": "01347baf",
      "metadata": {
        "id": "01347baf",
        "outputId": "e51b11b3-eddc-4be1-89c8-bfd6ebfde9d5"
      },
      "outputs": [
        {
          "ename": "SyntaxError",
          "evalue": "invalid decimal literal (404103703.py, line 2)",
          "output_type": "error",
          "traceback": [
            "\u001b[0;36m  Cell \u001b[0;32mIn[32], line 2\u001b[0;36m\u001b[0m\n\u001b[0;31m    3d_num = 120\u001b[0m\n\u001b[0m    ^\u001b[0m\n\u001b[0;31mSyntaxError\u001b[0m\u001b[0;31m:\u001b[0m invalid decimal literal\n"
          ]
        }
      ],
      "source": [
        "# What is the output?\n",
        "3d_num = 120\n",
        "print(3d_num + 1)"
      ]
    },
    {
      "cell_type": "code",
      "execution_count": null,
      "id": "eb703c26",
      "metadata": {
        "id": "eb703c26",
        "outputId": "52269eb6-cf17-460f-e39b-f845b187f0e9"
      },
      "outputs": [
        {
          "name": "stdout",
          "output_type": "stream",
          "text": [
            "<class 'str'>\n",
            "<class 'int'>\n"
          ]
        }
      ],
      "source": [
        "# Explicit typecasting\n",
        "age = \"25\"\n",
        "int_age = int(age)\n",
        "\n",
        "print(type(age))\n",
        "print(type(int_age))"
      ]
    },
    {
      "cell_type": "code",
      "execution_count": null,
      "id": "5ae74176",
      "metadata": {
        "id": "5ae74176",
        "outputId": "48347a77-1ddf-48ce-9c77-73cbb502bae4"
      },
      "outputs": [
        {
          "name": "stdout",
          "output_type": "stream",
          "text": [
            "<class 'int'>\n",
            "<class 'str'>\n"
          ]
        }
      ],
      "source": [
        "age = 25\n",
        "str_age = str(age)\n",
        "\n",
        "print(type(age))\n",
        "print(type(str_age))"
      ]
    },
    {
      "cell_type": "code",
      "execution_count": null,
      "id": "5abf2a38",
      "metadata": {
        "id": "5abf2a38",
        "outputId": "3d109669-6d4a-4191-d466-052b0e43504f"
      },
      "outputs": [
        {
          "ename": "ValueError",
          "evalue": "invalid literal for int() with base 10: 'Twenty-five'",
          "output_type": "error",
          "traceback": [
            "\u001b[0;31m---------------------------------------------------------------------------\u001b[0m",
            "\u001b[0;31mValueError\u001b[0m                                Traceback (most recent call last)",
            "Cell \u001b[0;32mIn[35], line 2\u001b[0m\n\u001b[1;32m      1\u001b[0m age \u001b[38;5;241m=\u001b[39m \u001b[38;5;124m\"\u001b[39m\u001b[38;5;124mTwenty-five\u001b[39m\u001b[38;5;124m\"\u001b[39m\n\u001b[0;32m----> 2\u001b[0m int_age \u001b[38;5;241m=\u001b[39m \u001b[38;5;28;43mint\u001b[39;49m\u001b[43m(\u001b[49m\u001b[43mage\u001b[49m\u001b[43m)\u001b[49m\n",
            "\u001b[0;31mValueError\u001b[0m: invalid literal for int() with base 10: 'Twenty-five'"
          ]
        }
      ],
      "source": [
        "age = \"Twenty-five\"\n",
        "int_age = int(age)"
      ]
    },
    {
      "cell_type": "code",
      "execution_count": null,
      "id": "95c29052",
      "metadata": {
        "id": "95c29052",
        "outputId": "686c2a0e-031e-4378-905c-1989de15b8e7"
      },
      "outputs": [
        {
          "name": "stdout",
          "output_type": "stream",
          "text": [
            "7.0\n",
            "<class 'float'>\n",
            "7\n",
            "<class 'int'>\n"
          ]
        }
      ],
      "source": [
        "# Implicit Typecasting\n",
        "int_val = 5\n",
        "float_val = 2.0\n",
        "\n",
        "print(int_val + float_val)\n",
        "print(type(int_val + float_val))\n",
        "\n",
        "# Explicit Typecasting\n",
        "int_result = int(int_val + float_val)\n",
        "\n",
        "print(int_result)\n",
        "print(type(int_result))"
      ]
    },
    {
      "cell_type": "code",
      "execution_count": null,
      "id": "af8c57d3",
      "metadata": {
        "id": "af8c57d3",
        "outputId": "2187cf7f-6989-4897-8d09-290adb0a2b64"
      },
      "outputs": [
        {
          "name": "stdout",
          "output_type": "stream",
          "text": [
            "Enter your number: 23\n",
            "23\n",
            "<class 'int'>\n"
          ]
        }
      ],
      "source": [
        "# Reading numbers from the user\n",
        "num = int(input(\"Enter your number: \"))\n",
        "\n",
        "print(num)\n",
        "print(type(num))"
      ]
    },
    {
      "cell_type": "code",
      "execution_count": null,
      "id": "a547b80c",
      "metadata": {
        "id": "a547b80c",
        "outputId": "0638d7d5-e591-40df-ff94-b8055f6cfa38"
      },
      "outputs": [
        {
          "name": "stdout",
          "output_type": "stream",
          "text": [
            "Enter a float number: abcd\n",
            "Invalid input. Please enter a valid number\n"
          ]
        }
      ],
      "source": [
        "# Error handling\n",
        "try:\n",
        "    num = float(input(\"Enter a float number: \"))\n",
        "except:\n",
        "    print(\"Invalid input. Please enter a valid number\")"
      ]
    },
    {
      "cell_type": "markdown",
      "id": "7037ef22",
      "metadata": {
        "id": "7037ef22"
      },
      "source": [
        "### Operators"
      ]
    },
    {
      "cell_type": "code",
      "execution_count": null,
      "id": "89a14339",
      "metadata": {
        "id": "89a14339"
      },
      "outputs": [],
      "source": [
        "# Arithmetic Operators\n",
        "a = 9\n",
        "b = 4\n",
        "\n",
        "# 9 = 4 x 2 + 1"
      ]
    },
    {
      "cell_type": "code",
      "execution_count": null,
      "id": "6507a705",
      "metadata": {
        "id": "6507a705",
        "outputId": "773aac93-4106-434e-cdae-4b7edb50b2b2"
      },
      "outputs": [
        {
          "name": "stdout",
          "output_type": "stream",
          "text": [
            "6561\n"
          ]
        }
      ],
      "source": [
        "# print(a+b)\n",
        "# print(a-b)\n",
        "# print(a*b)\n",
        "# print(a/b)\n",
        "# print(a//b)\n",
        "# print(a%b)\n",
        "print(a**b)"
      ]
    },
    {
      "cell_type": "code",
      "execution_count": null,
      "id": "baf666a7",
      "metadata": {
        "id": "baf666a7"
      },
      "outputs": [],
      "source": [
        "a = 5\n",
        "b = 10"
      ]
    },
    {
      "cell_type": "code",
      "execution_count": null,
      "id": "62c39d88",
      "metadata": {
        "id": "62c39d88",
        "outputId": "b794ef0a-c874-461d-c678-a7122d762661"
      },
      "outputs": [
        {
          "name": "stdout",
          "output_type": "stream",
          "text": [
            "15\n"
          ]
        }
      ],
      "source": [
        "# b = b + a\n",
        "b += a\n",
        "print(b)"
      ]
    },
    {
      "cell_type": "code",
      "execution_count": null,
      "id": "366d4fc3",
      "metadata": {
        "id": "366d4fc3",
        "outputId": "b9fb43bf-19f0-439c-e1a7-158616800cad"
      },
      "outputs": [
        {
          "name": "stdout",
          "output_type": "stream",
          "text": [
            "16\n"
          ]
        }
      ],
      "source": [
        "b += 1\n",
        "print(b)"
      ]
    },
    {
      "cell_type": "code",
      "execution_count": null,
      "id": "ef3311bd",
      "metadata": {
        "id": "ef3311bd",
        "outputId": "d278b36a-591f-45cc-e379-e39094f101d0"
      },
      "outputs": [
        {
          "name": "stdout",
          "output_type": "stream",
          "text": [
            "32\n"
          ]
        }
      ],
      "source": [
        "# b = b * 2\n",
        "b *= 2\n",
        "print(b)"
      ]
    },
    {
      "cell_type": "code",
      "execution_count": null,
      "id": "2c217c0e",
      "metadata": {
        "id": "2c217c0e"
      },
      "outputs": [],
      "source": [
        "# Comparison Operators\n",
        "a = 13\n",
        "b = 20"
      ]
    },
    {
      "cell_type": "code",
      "execution_count": null,
      "id": "57ca1589",
      "metadata": {
        "id": "57ca1589",
        "outputId": "c73d4caa-596b-4b78-bc3a-8e839f9354b4"
      },
      "outputs": [
        {
          "name": "stdout",
          "output_type": "stream",
          "text": [
            "True\n"
          ]
        }
      ],
      "source": [
        "# print(a < b)\n",
        "# print(a == b)\n",
        "# print(a != b)\n",
        "# print(a >= b)\n",
        "print(a <= b)"
      ]
    },
    {
      "cell_type": "code",
      "execution_count": null,
      "id": "90ad0e59",
      "metadata": {
        "id": "90ad0e59",
        "outputId": "aa49fbac-c8e4-4baf-fe00-624442ee3c65"
      },
      "outputs": [
        {
          "name": "stdout",
          "output_type": "stream",
          "text": [
            "False\n"
          ]
        }
      ],
      "source": [
        "x = a > b\n",
        "print(x)"
      ]
    },
    {
      "cell_type": "code",
      "execution_count": null,
      "id": "ad159e84",
      "metadata": {
        "id": "ad159e84"
      },
      "outputs": [],
      "source": [
        "a = [1, 2, 3]\n",
        "b = [1, 2, 3]"
      ]
    },
    {
      "cell_type": "code",
      "execution_count": null,
      "id": "ae3cf61b",
      "metadata": {
        "id": "ae3cf61b"
      },
      "outputs": [],
      "source": [
        "result1 = (a != b)\n",
        "result2 = (a is not b)"
      ]
    },
    {
      "cell_type": "code",
      "execution_count": null,
      "id": "d8da1945",
      "metadata": {
        "id": "d8da1945",
        "outputId": "a436e8ad-f301-47bb-de96-7aad8004223a"
      },
      "outputs": [
        {
          "name": "stdout",
          "output_type": "stream",
          "text": [
            "False\n",
            "True\n"
          ]
        }
      ],
      "source": [
        "print(result1)\n",
        "print(result2)"
      ]
    },
    {
      "cell_type": "code",
      "execution_count": null,
      "id": "03e7774e",
      "metadata": {
        "id": "03e7774e",
        "outputId": "d9eb61be-0478-48c0-82cb-669856053b0d"
      },
      "outputs": [
        {
          "name": "stdout",
          "output_type": "stream",
          "text": [
            "4609423552\n",
            "4609433920\n"
          ]
        }
      ],
      "source": [
        "print(id(a))\n",
        "print(id(b))"
      ]
    },
    {
      "cell_type": "code",
      "execution_count": null,
      "id": "25654b06",
      "metadata": {
        "id": "25654b06"
      },
      "outputs": [],
      "source": [
        "c = a"
      ]
    },
    {
      "cell_type": "code",
      "execution_count": null,
      "id": "fbff0b4a",
      "metadata": {
        "id": "fbff0b4a"
      },
      "outputs": [],
      "source": [
        "result3 = (c is not a)"
      ]
    },
    {
      "cell_type": "code",
      "execution_count": null,
      "id": "6504b0e1",
      "metadata": {
        "id": "6504b0e1",
        "outputId": "5753c5b1-a4f4-43bf-8d07-824d1d353535"
      },
      "outputs": [
        {
          "name": "stdout",
          "output_type": "stream",
          "text": [
            "4608822976\n",
            "4608822976\n"
          ]
        }
      ],
      "source": [
        "print(id(a))\n",
        "print(id(c))"
      ]
    },
    {
      "cell_type": "code",
      "execution_count": null,
      "id": "93789f3c",
      "metadata": {
        "id": "93789f3c",
        "outputId": "ca70eb8e-f1d3-44f8-a4f0-02c651e2abcb"
      },
      "outputs": [
        {
          "name": "stdout",
          "output_type": "stream",
          "text": [
            "False\n"
          ]
        }
      ],
      "source": [
        "print(result3)"
      ]
    },
    {
      "cell_type": "code",
      "execution_count": null,
      "id": "5510956a",
      "metadata": {
        "id": "5510956a"
      },
      "outputs": [],
      "source": [
        "# Logical Operators\n",
        "a = True\n",
        "b = False"
      ]
    },
    {
      "cell_type": "code",
      "execution_count": null,
      "id": "09cc8bd1",
      "metadata": {
        "id": "09cc8bd1",
        "outputId": "12a2110f-d229-42a9-adb9-5907a2ef2a7c"
      },
      "outputs": [
        {
          "name": "stdout",
          "output_type": "stream",
          "text": [
            "False\n"
          ]
        }
      ],
      "source": [
        "# print(a and b)\n",
        "# print(a or b)\n",
        "print(not a)"
      ]
    },
    {
      "cell_type": "code",
      "execution_count": null,
      "id": "1b442b2c",
      "metadata": {
        "id": "1b442b2c"
      },
      "outputs": [],
      "source": [
        "condition = a and b"
      ]
    },
    {
      "cell_type": "code",
      "execution_count": null,
      "id": "1158100c",
      "metadata": {
        "id": "1158100c",
        "outputId": "bcf68bc3-701c-4716-a3c6-7fa660cdfb35"
      },
      "outputs": [
        {
          "name": "stdout",
          "output_type": "stream",
          "text": [
            "True\n"
          ]
        }
      ],
      "source": [
        "print(not condition)"
      ]
    },
    {
      "cell_type": "markdown",
      "id": "8394570f",
      "metadata": {
        "id": "8394570f"
      },
      "source": [
        "### if-else Statements"
      ]
    },
    {
      "cell_type": "code",
      "execution_count": null,
      "id": "437deef9",
      "metadata": {
        "id": "437deef9",
        "outputId": "7eed1333-1d91-4005-bbd0-e04dc0296b09"
      },
      "outputs": [
        {
          "name": "stdout",
          "output_type": "stream",
          "text": [
            "You're eligible for voting\n"
          ]
        }
      ],
      "source": [
        "# Example - if-else\n",
        "age = 25\n",
        "threshold = 18\n",
        "\n",
        "if age > threshold:\n",
        "    print(\"You're eligible for voting\")\n",
        "else:\n",
        "    print(\"You're NOT eligible for voting\")"
      ]
    },
    {
      "cell_type": "code",
      "execution_count": null,
      "id": "37707f04",
      "metadata": {
        "id": "37707f04",
        "outputId": "add57a0d-8c0d-4056-9c5f-8ac08e899e27"
      },
      "outputs": [
        {
          "name": "stdout",
          "output_type": "stream",
          "text": [
            "0\n",
            "Even\n"
          ]
        }
      ],
      "source": [
        "# Example - Arithmetic Operators\n",
        "a = 8\n",
        "\n",
        "print(a % 2)\n",
        "\n",
        "if a % 2 == 0:\n",
        "    print(\"Even\")\n",
        "else:\n",
        "    print(\"Odd\")"
      ]
    },
    {
      "cell_type": "code",
      "execution_count": null,
      "id": "1b9ff8b0",
      "metadata": {
        "id": "1b9ff8b0",
        "outputId": "5bedbe04-77a5-4ac5-da78-47afe099a1bd"
      },
      "outputs": [
        {
          "name": "stdout",
          "output_type": "stream",
          "text": [
            "Underaged!\n"
          ]
        }
      ],
      "source": [
        "# Example - Multiple Conditions\n",
        "age = 25\n",
        "has_license = True\n",
        "\n",
        "if (age >= 18) and (has_license):\n",
        "    print(\"Driving Allowed!\")\n",
        "elif (age >= 18) and (not has_license):\n",
        "    print(\"Need License!\")\n",
        "else:\n",
        "    print(\"Underaged!\")"
      ]
    },
    {
      "cell_type": "code",
      "execution_count": null,
      "id": "4d6660ed",
      "metadata": {
        "id": "4d6660ed",
        "outputId": "5e56b1ec-b26b-4f1e-8ffa-7a639e89c05d"
      },
      "outputs": [
        {
          "name": "stdout",
          "output_type": "stream",
          "text": [
            "Checkpoint D\n"
          ]
        }
      ],
      "source": [
        "# What are the outputs?\n",
        "\n",
        "num = 14\n",
        "# num = 7\n",
        "\n",
        "if num >= 10:\n",
        "    if num % 2 == 0:\n",
        "        print(\"Checkpoint A\")\n",
        "    else:\n",
        "        print(\"Checkpoint B\")\n",
        "else:\n",
        "    if num % 2 == 0:\n",
        "        print(\"Checkpoint C\")\n",
        "    else:\n",
        "        print(\"Checkpoint D\")"
      ]
    },
    {
      "cell_type": "code",
      "execution_count": null,
      "id": "76522c03",
      "metadata": {
        "id": "76522c03",
        "outputId": "a33cbef7-6873-4c99-d438-053b61c7be49"
      },
      "outputs": [
        {
          "name": "stdout",
          "output_type": "stream",
          "text": [
            "A\n"
          ]
        }
      ],
      "source": [
        "num = 14\n",
        "condition = (num % 2 == 0)\n",
        "\n",
        "if num >= 10:\n",
        "    print(\"A\") if condition else print(\"B\")\n",
        "else:\n",
        "    print(\"C\") if condition else print(\"D\")"
      ]
    },
    {
      "cell_type": "code",
      "execution_count": null,
      "id": "9d32abfd",
      "metadata": {
        "id": "9d32abfd",
        "outputId": "99e66f63-a40f-4bdc-87d3-bf7112375815"
      },
      "outputs": [
        {
          "name": "stdout",
          "output_type": "stream",
          "text": [
            "A\n"
          ]
        }
      ],
      "source": [
        "(print(\"A\") if condition else print(\"B\")) if (num >= 10) else (print(\"C\") if condition else print(\"D\"))"
      ]
    },
    {
      "cell_type": "markdown",
      "id": "4d0ffa23",
      "metadata": {
        "id": "4d0ffa23"
      },
      "source": [
        "### Loops"
      ]
    },
    {
      "cell_type": "code",
      "execution_count": null,
      "id": "17c94648",
      "metadata": {
        "id": "17c94648",
        "outputId": "45d814aa-377b-4e9d-f613-22922a0110a7"
      },
      "outputs": [
        {
          "name": "stdout",
          "output_type": "stream",
          "text": [
            "0\n",
            "1\n",
            "2\n",
            "3\n",
            "4\n"
          ]
        }
      ],
      "source": [
        "# for loop\n",
        "for i in range(5):\n",
        "    print(i)"
      ]
    },
    {
      "cell_type": "code",
      "execution_count": null,
      "id": "6dc6a0f0",
      "metadata": {
        "id": "6dc6a0f0",
        "outputId": "f31d1463-d387-430b-ecd0-84d098221bf5"
      },
      "outputs": [
        {
          "name": "stdout",
          "output_type": "stream",
          "text": [
            "10\n",
            "11\n",
            "12\n",
            "13\n",
            "14\n"
          ]
        }
      ],
      "source": [
        "for i in range(10, 15):\n",
        "    print(i)"
      ]
    },
    {
      "cell_type": "code",
      "execution_count": null,
      "id": "4836b33c",
      "metadata": {
        "id": "4836b33c",
        "outputId": "e44b8993-6b7f-4049-8f31-2d8d63fc9fb0"
      },
      "outputs": [
        {
          "name": "stdout",
          "output_type": "stream",
          "text": [
            "10\n",
            "12\n",
            "14\n"
          ]
        }
      ],
      "source": [
        "for i in range(10, 15, 2):\n",
        "    print(i)"
      ]
    },
    {
      "cell_type": "code",
      "execution_count": null,
      "id": "cb4d2e4b",
      "metadata": {
        "id": "cb4d2e4b",
        "outputId": "80f4c336-83bd-4a72-b743-5b3522ecbd19"
      },
      "outputs": [
        {
          "name": "stdout",
          "output_type": "stream",
          "text": [
            "10\n"
          ]
        }
      ],
      "source": [
        "# Find the sum of 1-4\n",
        "SUM = 0\n",
        "for x in range(1, 5):\n",
        "    SUM += x\n",
        "print(SUM)"
      ]
    },
    {
      "cell_type": "code",
      "execution_count": null,
      "id": "f29e815d",
      "metadata": {
        "id": "f29e815d",
        "outputId": "35324c51-8dd3-4b78-c6d9-8ea4fec7907e"
      },
      "outputs": [
        {
          "name": "stdout",
          "output_type": "stream",
          "text": [
            "1234\n"
          ]
        }
      ],
      "source": [
        "message = \"\"\n",
        "for num in range(1, 5):\n",
        "    message += str(num)\n",
        "print(message)"
      ]
    },
    {
      "cell_type": "code",
      "execution_count": null,
      "id": "e6d8a26c",
      "metadata": {
        "id": "e6d8a26c",
        "outputId": "4ddab7aa-05e0-44bb-b8bb-c4f9acb74770"
      },
      "outputs": [
        {
          "name": "stdout",
          "output_type": "stream",
          "text": [
            "Number 1\n",
            "Number 2\n",
            "Number 3\n",
            "Number 4\n",
            "Number 5\n",
            "\n",
            "Count = 6\n"
          ]
        }
      ],
      "source": [
        "# while loop\n",
        "count = 1\n",
        "\n",
        "while (count <= 5):\n",
        "    print(\"Number \" + str(count))\n",
        "    count += 1\n",
        "\n",
        "print(\"\\nCount =\", count)"
      ]
    },
    {
      "cell_type": "code",
      "execution_count": null,
      "id": "b89ddac7",
      "metadata": {
        "id": "b89ddac7",
        "outputId": "3dd0b8f6-8177-4709-a946-c87a4a3c0a32"
      },
      "outputs": [
        {
          "name": "stdout",
          "output_type": "stream",
          "text": [
            "0\n",
            "1\n",
            "2\n"
          ]
        }
      ],
      "source": [
        "# loop control - break\n",
        "for i in range(5):\n",
        "    if i == 3:\n",
        "        break\n",
        "    print(i)"
      ]
    },
    {
      "cell_type": "code",
      "execution_count": null,
      "id": "80dd0775",
      "metadata": {
        "id": "80dd0775",
        "outputId": "acfb387c-24ce-47f8-a9e4-7190c96b9aae"
      },
      "outputs": [
        {
          "name": "stdout",
          "output_type": "stream",
          "text": [
            "0\n",
            "1\n",
            "2\n",
            "4\n"
          ]
        }
      ],
      "source": [
        "# loop control - continue\n",
        "for i in range(5):\n",
        "    if i == 3:\n",
        "        continue\n",
        "    print(i)"
      ]
    },
    {
      "cell_type": "markdown",
      "id": "454d7654",
      "metadata": {
        "id": "454d7654"
      },
      "source": [
        "#### CLASS ACTIVITY"
      ]
    },
    {
      "cell_type": "markdown",
      "id": "6c4bc549",
      "metadata": {
        "id": "6c4bc549"
      },
      "source": [
        "Find the sum of digits of a given number N"
      ]
    },
    {
      "cell_type": "code",
      "execution_count": null,
      "id": "b1307077",
      "metadata": {
        "id": "b1307077",
        "outputId": "cefd98cb-adb6-44ed-ed44-3a2ad8d6ba11"
      },
      "outputs": [
        {
          "name": "stdout",
          "output_type": "stream",
          "text": [
            "9\n"
          ]
        }
      ],
      "source": [
        "# N = 5013\n",
        "# ans = 5 + 0 + 1 + 3 = 9\n",
        "\n",
        "N = 5013\n",
        "res = 0\n",
        "\n",
        "while N > 0:\n",
        "    remainder = N % 10\n",
        "    res += remainder\n",
        "    N //= 10\n",
        "\n",
        "print(res)"
      ]
    },
    {
      "cell_type": "markdown",
      "id": "ed96f5cb",
      "metadata": {
        "id": "ed96f5cb"
      },
      "source": [
        "Find the first pair of (non-negligible) divisors for a given number N"
      ]
    },
    {
      "cell_type": "code",
      "execution_count": null,
      "id": "92c4becd",
      "metadata": {
        "id": "92c4becd",
        "outputId": "97e18b04-ce70-4936-868c-87b8b9ec62eb"
      },
      "outputs": [
        {
          "name": "stdout",
          "output_type": "stream",
          "text": [
            "(2, 32)\n"
          ]
        }
      ],
      "source": [
        "# N = 64\n",
        "# set_of_divisors = {1, 2, 4, 8, 16, 32, 64}\n",
        "# ans = (2, 32)\n",
        "\n",
        "N = 64\n",
        "found_divisor = False\n",
        "\n",
        "for i in range(2, N):\n",
        "\n",
        "    if found_divisor:\n",
        "        break\n",
        "\n",
        "    for j in range(i, N):\n",
        "\n",
        "        # Check if i and j are divisors\n",
        "        if i * j == N:\n",
        "            ans = (i, j)\n",
        "            found_divisor = True\n",
        "            break\n",
        "\n",
        "print(ans)"
      ]
    },
    {
      "cell_type": "markdown",
      "id": "20bcd971",
      "metadata": {
        "id": "20bcd971"
      },
      "source": [
        "### Function"
      ]
    },
    {
      "cell_type": "code",
      "execution_count": null,
      "id": "561c2cbd",
      "metadata": {
        "id": "561c2cbd",
        "outputId": "a85234a5-a084-44ac-8188-14b202bb90f6"
      },
      "outputs": [
        {
          "name": "stdout",
          "output_type": "stream",
          "text": [
            "Hello\n"
          ]
        }
      ],
      "source": [
        "def greet():\n",
        "    print(\"Hello\")\n",
        "\n",
        "greet()"
      ]
    },
    {
      "cell_type": "code",
      "execution_count": null,
      "id": "a0e815c8",
      "metadata": {
        "id": "a0e815c8",
        "outputId": "6662a712-09e5-40aa-c02c-6e2f986f186a"
      },
      "outputs": [
        {
          "name": "stdout",
          "output_type": "stream",
          "text": [
            "Hello John\n"
          ]
        }
      ],
      "source": [
        "def greet_someone(name: str) -> None:\n",
        "    print(\"Hello \" + name)\n",
        "\n",
        "greet_someone(name=\"John\")"
      ]
    },
    {
      "cell_type": "code",
      "execution_count": null,
      "id": "8a733acb",
      "metadata": {
        "id": "8a733acb",
        "outputId": "4995ac50-877a-46f6-9438-b62acfaeb9a2"
      },
      "outputs": [
        {
          "name": "stdout",
          "output_type": "stream",
          "text": [
            "20\n"
          ]
        }
      ],
      "source": [
        "# Example - Arithmetic\n",
        "def add_numbers(a: int, b: int) -> int:\n",
        "    return a + 2 * b\n",
        "\n",
        "print(add_numbers(a=4, b=8))"
      ]
    },
    {
      "cell_type": "code",
      "execution_count": null,
      "id": "59c6a9e4",
      "metadata": {
        "id": "59c6a9e4",
        "outputId": "91663f74-eb08-45f6-ea98-c132e98d1576"
      },
      "outputs": [
        {
          "data": {
            "text/plain": [
              "10"
            ]
          },
          "execution_count": 137,
          "metadata": {},
          "output_type": "execute_result"
        }
      ],
      "source": [
        "# Example - Arithmetic\n",
        "def add_numbers(a=7, b=8):\n",
        "    return a + b\n",
        "\n",
        "# print(add_numbers())\n",
        "# print(add_numbers(2, 3))\n",
        "print(add_numbers(a=2))"
      ]
    },
    {
      "cell_type": "code",
      "execution_count": null,
      "id": "c7361ee9",
      "metadata": {
        "id": "c7361ee9",
        "outputId": "d383840b-aff8-4a1d-9d9e-b7e34fb38a53"
      },
      "outputs": [
        {
          "name": "stdout",
          "output_type": "stream",
          "text": [
            "19\n"
          ]
        }
      ],
      "source": [
        "# N = 5013\n",
        "# ans = 5 + 0 + 1 + 3 = 9\n",
        "\n",
        "def find_sum_of_digits(num):\n",
        "    res = 0\n",
        "    while num > 0:\n",
        "        remainder = num % 10\n",
        "        res += remainder\n",
        "        num //= 10\n",
        "    return res\n",
        "\n",
        "print(find_sum_of_digits(49213))"
      ]
    },
    {
      "cell_type": "code",
      "execution_count": null,
      "id": "d28ff5af",
      "metadata": {
        "id": "d28ff5af",
        "outputId": "f09d00f3-ac23-4eb2-ee4f-e8f83576407a"
      },
      "outputs": [
        {
          "name": "stdout",
          "output_type": "stream",
          "text": [
            "30\n"
          ]
        }
      ],
      "source": [
        "def function1(arg1: str):\n",
        "    print(arg1 + 10)\n",
        "\n",
        "function1(arg1=20)"
      ]
    },
    {
      "cell_type": "markdown",
      "id": "586cc4b9",
      "metadata": {
        "id": "586cc4b9"
      },
      "source": [
        "### Lists"
      ]
    },
    {
      "cell_type": "code",
      "execution_count": null,
      "id": "f7f03e40",
      "metadata": {
        "id": "f7f03e40"
      },
      "outputs": [],
      "source": [
        "# Create a new list (lists are heterogeneous)\n",
        "my_list = [1, 2, 3, \"John\", True, 'a', 'b']"
      ]
    },
    {
      "cell_type": "code",
      "execution_count": null,
      "id": "b17b0b48",
      "metadata": {
        "id": "b17b0b48",
        "outputId": "29fbc35b-ed73-4627-eac1-1b2854de8706"
      },
      "outputs": [
        {
          "name": "stdout",
          "output_type": "stream",
          "text": [
            "b\n"
          ]
        }
      ],
      "source": [
        "# print(my_list[0])\n",
        "# print(my_list[1])\n",
        "print(my_list[len(my_list)-1])"
      ]
    },
    {
      "cell_type": "code",
      "execution_count": null,
      "id": "ce9137d4",
      "metadata": {
        "id": "ce9137d4",
        "outputId": "d2b3028a-11fd-4e0a-81e3-cb1198af647a"
      },
      "outputs": [
        {
          "name": "stdout",
          "output_type": "stream",
          "text": [
            "1\n"
          ]
        }
      ],
      "source": [
        "# print(my_list[-1])\n",
        "# print(my_list[-3])\n",
        "print(my_list[-len(my_list)])"
      ]
    },
    {
      "cell_type": "code",
      "execution_count": null,
      "id": "e9ead83a",
      "metadata": {
        "id": "e9ead83a",
        "outputId": "88e24aa2-8a8e-49c5-a155-ad49405f2b85"
      },
      "outputs": [
        {
          "name": "stdout",
          "output_type": "stream",
          "text": [
            "['new', 2, 3, 'John', True, 'a', 'b']\n"
          ]
        }
      ],
      "source": [
        "my_list[0] = \"new\"\n",
        "print(my_list)"
      ]
    },
    {
      "cell_type": "code",
      "execution_count": null,
      "id": "1d484324",
      "metadata": {
        "id": "1d484324",
        "outputId": "62fa67fe-5e67-48ad-9394-5de862256821"
      },
      "outputs": [
        {
          "name": "stdout",
          "output_type": "stream",
          "text": [
            "[0, 'new', 2, 3, 'John', True, 'a', 'b', 'c']\n"
          ]
        }
      ],
      "source": [
        "# list concatenation\n",
        "new_list = [0] + my_list + ['c']\n",
        "print(new_list)"
      ]
    },
    {
      "cell_type": "code",
      "execution_count": null,
      "id": "dd705328",
      "metadata": {
        "id": "dd705328",
        "outputId": "a71a4ac4-1b80-4565-c315-3d7f09b1f923"
      },
      "outputs": [
        {
          "name": "stdout",
          "output_type": "stream",
          "text": [
            "[0, 0, 0, 0, 0, 0, 0, 0, 0, 0]\n"
          ]
        }
      ],
      "source": [
        "# list multiplications\n",
        "scores = [0] * 10\n",
        "print(scores)"
      ]
    },
    {
      "cell_type": "code",
      "execution_count": null,
      "id": "4211a591",
      "metadata": {
        "id": "4211a591"
      },
      "outputs": [],
      "source": [
        "# lists built-in functions\n",
        "fruits = [\"Apple\", \"Banana\", \"Cherry\"]"
      ]
    },
    {
      "cell_type": "code",
      "execution_count": null,
      "id": "388773cc",
      "metadata": {
        "id": "388773cc",
        "outputId": "d2aa4abb-cb29-4ab0-efad-1c300689ba54"
      },
      "outputs": [
        {
          "name": "stdout",
          "output_type": "stream",
          "text": [
            "['Apple', 'Banana', 'Cherry', 'Orange', 'Kiwi', 'Blueberry']\n"
          ]
        }
      ],
      "source": [
        "# fruits.append(\"Orange\")\n",
        "# fruits.extend([\"Kiwi\", \"Blueberry\"])\n",
        "# fruits.extend([\"Watermelon\"])\n",
        "# fruits.remove(\"Cherry\")\n",
        "# removed_element = fruits.pop()\n",
        "# removed_element = fruits.pop(2)\n",
        "# idx = fruits.index(\"Banana\")\n",
        "# fruits.append(\"Apple\")\n",
        "# num_of_apples = fruits.count(\"Apple\")\n",
        "# fruits.clear()\n",
        "\n",
        "print(fruits)\n",
        "# print(removed_element)\n",
        "# print(idx)\n",
        "# print(num_of_apples)"
      ]
    },
    {
      "cell_type": "code",
      "execution_count": null,
      "id": "4008c1f5",
      "metadata": {
        "id": "4008c1f5"
      },
      "outputs": [],
      "source": [
        "# Numerical Example\n",
        "nums = [2, 0, -1, 4, -2, 10]"
      ]
    },
    {
      "cell_type": "code",
      "execution_count": null,
      "id": "cefb3544",
      "metadata": {
        "id": "cefb3544",
        "outputId": "99255899-ef9a-4432-c607-b50e1878306f"
      },
      "outputs": [
        {
          "name": "stdout",
          "output_type": "stream",
          "text": [
            "[10, -1, -2]\n"
          ]
        }
      ],
      "source": [
        "# nums.sort(reverse=True)\n",
        "# num.reverse()\n",
        "# num2 = nums.copy()\n",
        "del nums[1:3]\n",
        "\n",
        "# print(nums)\n",
        "print(nums)"
      ]
    },
    {
      "cell_type": "code",
      "execution_count": null,
      "id": "56d23616",
      "metadata": {
        "id": "56d23616",
        "outputId": "615eeb2f-4bb9-45d8-fb5f-adbc15afd8f3"
      },
      "outputs": [
        {
          "name": "stdout",
          "output_type": "stream",
          "text": [
            "10\n",
            "-1\n",
            "-2\n"
          ]
        }
      ],
      "source": [
        "# element-wise iteration\n",
        "for num in nums:\n",
        "    print(num)"
      ]
    },
    {
      "cell_type": "code",
      "execution_count": null,
      "id": "74786fb9",
      "metadata": {
        "id": "74786fb9",
        "outputId": "ef785e9e-2ff3-448e-e373-4fcceac00b1b"
      },
      "outputs": [
        {
          "name": "stdout",
          "output_type": "stream",
          "text": [
            "0 10\n",
            "1 -1\n",
            "2 -2\n"
          ]
        }
      ],
      "source": [
        "# Iterate with index\n",
        "for i in range(len(nums)):\n",
        "    print(i, nums[i])"
      ]
    },
    {
      "cell_type": "code",
      "execution_count": null,
      "id": "2ca991e3",
      "metadata": {
        "id": "2ca991e3",
        "outputId": "3ba7a1fc-628e-4164-af3b-3cd0dd6be542"
      },
      "outputs": [
        {
          "name": "stdout",
          "output_type": "stream",
          "text": [
            "0 10\n",
            "1 -1\n",
            "2 -2\n"
          ]
        }
      ],
      "source": [
        "for i, val in enumerate(nums):\n",
        "    print(i, val)"
      ]
    },
    {
      "cell_type": "code",
      "execution_count": null,
      "id": "a11ab38f",
      "metadata": {
        "id": "a11ab38f",
        "outputId": "4ba9bb04-8123-4b2b-ba78-cc4e0e94e1ef"
      },
      "outputs": [
        {
          "name": "stdout",
          "output_type": "stream",
          "text": [
            "True\n"
          ]
        }
      ],
      "source": [
        "# Check existence\n",
        "\n",
        "case1 = (10 in nums)\n",
        "print(case1)"
      ]
    },
    {
      "cell_type": "code",
      "execution_count": null,
      "id": "5d408dc6",
      "metadata": {
        "id": "5d408dc6",
        "outputId": "f20a0090-4007-4727-8538-5112e515d28b"
      },
      "outputs": [
        {
          "name": "stdout",
          "output_type": "stream",
          "text": [
            "False\n"
          ]
        }
      ],
      "source": [
        "case2 = (5 in nums)\n",
        "print(case2)"
      ]
    },
    {
      "cell_type": "code",
      "execution_count": null,
      "id": "d5098ce6",
      "metadata": {
        "id": "d5098ce6",
        "outputId": "194637c4-0093-4a53-824d-b008b27fe7e0"
      },
      "outputs": [
        {
          "name": "stdout",
          "output_type": "stream",
          "text": [
            "[0, 1, 4, 9, 16]\n"
          ]
        }
      ],
      "source": [
        "# list comprehensions\n",
        "squares = [x**2 for x in range(5)]\n",
        "print(squares)"
      ]
    },
    {
      "cell_type": "code",
      "execution_count": null,
      "id": "df678d5c",
      "metadata": {
        "id": "df678d5c",
        "outputId": "24f559be-cffd-4332-f48e-fb367d52533a"
      },
      "outputs": [
        {
          "name": "stdout",
          "output_type": "stream",
          "text": [
            "[0, 2, 4, 6, 8]\n"
          ]
        }
      ],
      "source": [
        "evens = [x for x in range(10) if x % 2 == 0]\n",
        "print(evens)"
      ]
    },
    {
      "cell_type": "code",
      "execution_count": null,
      "id": "ccdf40e0",
      "metadata": {
        "id": "ccdf40e0"
      },
      "outputs": [],
      "source": [
        "# Slicing in lists\n",
        "\n",
        "my_list = [0, 1, 2, 3, 4, 5, 6, 7, 8, 9]"
      ]
    },
    {
      "cell_type": "code",
      "execution_count": null,
      "id": "3ae11b07",
      "metadata": {
        "id": "3ae11b07",
        "outputId": "de768c62-3e92-44e5-b417-e2fafc923c1c"
      },
      "outputs": [
        {
          "name": "stdout",
          "output_type": "stream",
          "text": [
            "[9, 8, 7, 6, 5, 4, 3, 2, 1, 0]\n"
          ]
        }
      ],
      "source": [
        "# print(my_list[start:end:step])\n",
        "\n",
        "# print(my_list[1:5])\n",
        "# print(my_list[4:])\n",
        "# print(my_list[:4])\n",
        "# print(my_list[1:9:2])\n",
        "# print(my_list[::])\n",
        "# print(my_list[::2])\n",
        "print(my_list[::-1])\n",
        "# print(my_list[-2:-5:-1])\n",
        "# print(my_list[-3:])\n",
        "# print(my_list[-5:-2])"
      ]
    },
    {
      "cell_type": "markdown",
      "id": "40a83a04",
      "metadata": {
        "id": "40a83a04"
      },
      "source": [
        "### LeetCode - Two Sum"
      ]
    },
    {
      "cell_type": "markdown",
      "id": "75d7c0e7",
      "metadata": {
        "id": "75d7c0e7"
      },
      "source": [
        "Given an array of integers nums and an integer target, return indices of the two numbers such that they add up to target.\n",
        "\n",
        "You may assume that each input would have exactly one solution, and you may not use the same element twice.\n",
        "\n",
        "You can return the answer in any order."
      ]
    },
    {
      "cell_type": "code",
      "execution_count": null,
      "id": "930e51f5",
      "metadata": {
        "id": "930e51f5"
      },
      "outputs": [],
      "source": [
        "def twoSum(nums, target):\n",
        "    n = len(nums)\n",
        "    for i in range(n):\n",
        "        num1 = nums[i]\n",
        "        for j in range(i+1, n):\n",
        "            num2 = nums[j]\n",
        "            if (num1 + num2 == target):\n",
        "                return [i, j]"
      ]
    },
    {
      "cell_type": "code",
      "execution_count": null,
      "id": "2e9a9be6",
      "metadata": {
        "scrolled": true,
        "id": "2e9a9be6",
        "outputId": "e2ccc46e-c62f-4e57-e2bc-40dffa19ef59"
      },
      "outputs": [
        {
          "name": "stdout",
          "output_type": "stream",
          "text": [
            "[0, 1]\n"
          ]
        }
      ],
      "source": [
        "# Test Case 1\n",
        "list1 = [2, 7, 11, 15]\n",
        "result = twoSum(list1, 9)\n",
        "print(result)"
      ]
    },
    {
      "cell_type": "code",
      "execution_count": null,
      "id": "0d2c2934",
      "metadata": {
        "id": "0d2c2934",
        "outputId": "911633f3-3e8c-4955-c627-a32213c7e1d7"
      },
      "outputs": [
        {
          "name": "stdout",
          "output_type": "stream",
          "text": [
            "[1, 2]\n"
          ]
        }
      ],
      "source": [
        "# Test Case 2\n",
        "list2 = [3, 2, 4]\n",
        "result = twoSum(list2, 6)\n",
        "print(result)"
      ]
    },
    {
      "cell_type": "code",
      "execution_count": null,
      "id": "bb14f3c4",
      "metadata": {
        "id": "bb14f3c4",
        "outputId": "99cc20fb-b5af-4453-9241-38f7808202fa"
      },
      "outputs": [
        {
          "name": "stdout",
          "output_type": "stream",
          "text": [
            "[0, 2]\n"
          ]
        }
      ],
      "source": [
        "# Test Case 3\n",
        "list3 = [2, 10, 9, 20, 5, 7]\n",
        "result = twoSum(list3, 11)\n",
        "print(result)"
      ]
    },
    {
      "cell_type": "markdown",
      "id": "7caefc8e",
      "metadata": {
        "id": "7caefc8e"
      },
      "source": [
        "### LeetCode - Contains Duplicate"
      ]
    },
    {
      "cell_type": "markdown",
      "id": "efec01d7",
      "metadata": {
        "id": "efec01d7"
      },
      "source": [
        "Given an integer array nums, return true if any value appears at least twice in the array, and return false if every element is distinct."
      ]
    },
    {
      "cell_type": "code",
      "execution_count": null,
      "id": "02b3d758",
      "metadata": {
        "id": "02b3d758"
      },
      "outputs": [],
      "source": [
        "# Solution 1\n",
        "def containsDuplicate(nums):\n",
        "    n = len(nums)\n",
        "    for i in range(n-1):\n",
        "        for j in range(i+1, n):\n",
        "            if nums[i] == nums[j]:\n",
        "                return True\n",
        "    return False"
      ]
    },
    {
      "cell_type": "code",
      "execution_count": null,
      "id": "7d2776d6",
      "metadata": {
        "id": "7d2776d6"
      },
      "outputs": [],
      "source": [
        "# Solution 2\n",
        "def containsDuplicate(nums):\n",
        "    nums.sort()\n",
        "    n = len(nums)\n",
        "    for i in range(n-1):\n",
        "        if nums[i] == nums[i+1]:\n",
        "            return True\n",
        "    return False"
      ]
    },
    {
      "cell_type": "code",
      "execution_count": null,
      "id": "5becfd4b",
      "metadata": {
        "id": "5becfd4b",
        "outputId": "57abb60a-1e44-4bb6-95d4-4ac3c5620a43"
      },
      "outputs": [
        {
          "name": "stdout",
          "output_type": "stream",
          "text": [
            "True\n"
          ]
        }
      ],
      "source": [
        "# Test Case 1\n",
        "list1 = [1, 2, 3, 1]\n",
        "result = containsDuplicate(list1)\n",
        "print(result)"
      ]
    },
    {
      "cell_type": "code",
      "execution_count": null,
      "id": "432c0959",
      "metadata": {
        "id": "432c0959",
        "outputId": "b121f644-06cf-45e6-a744-5809dc767b52"
      },
      "outputs": [
        {
          "name": "stdout",
          "output_type": "stream",
          "text": [
            "False\n"
          ]
        }
      ],
      "source": [
        "# Test Case 2\n",
        "list2 = [1, 2, 3, 4]\n",
        "result = containsDuplicate(list2)\n",
        "print(result)"
      ]
    },
    {
      "cell_type": "code",
      "execution_count": null,
      "id": "17a2da4d",
      "metadata": {
        "id": "17a2da4d",
        "outputId": "7babce67-1e63-4afb-91f3-556c63172b88"
      },
      "outputs": [
        {
          "name": "stdout",
          "output_type": "stream",
          "text": [
            "True\n"
          ]
        }
      ],
      "source": [
        "# Test Case 3\n",
        "list3 = [1, 1, 1, 3, 3, 4, 3, 2, 4, 2]\n",
        "result = containsDuplicate(list3)\n",
        "print(result)"
      ]
    },
    {
      "cell_type": "code",
      "execution_count": null,
      "id": "83df694a",
      "metadata": {
        "id": "83df694a",
        "outputId": "c1d4647a-8bb7-45a3-8b00-b6e9f4724c92"
      },
      "outputs": [
        {
          "name": "stdout",
          "output_type": "stream",
          "text": [
            "False\n"
          ]
        }
      ],
      "source": [
        "# Test Case 4\n",
        "list4 = [2, 10, 9, 20, 1, 7]\n",
        "result = containsDuplicate(list4)\n",
        "print(result)"
      ]
    },
    {
      "cell_type": "markdown",
      "id": "45dddd59",
      "metadata": {
        "id": "45dddd59"
      },
      "source": [
        "### Strings"
      ]
    },
    {
      "cell_type": "code",
      "execution_count": null,
      "id": "659cfa67",
      "metadata": {
        "id": "659cfa67"
      },
      "outputs": [],
      "source": [
        "# Create a new string\n",
        "greeting = \"Hello, World!\""
      ]
    },
    {
      "cell_type": "code",
      "execution_count": null,
      "id": "aad88097",
      "metadata": {
        "id": "aad88097",
        "outputId": "6a639076-50ef-424a-8aef-d2e9c0168b1b"
      },
      "outputs": [
        {
          "name": "stdout",
          "output_type": "stream",
          "text": [
            "H e !\n"
          ]
        }
      ],
      "source": [
        "# Access characters\n",
        "ch1 = greeting[0]\n",
        "ch2 = greeting[1]\n",
        "ch3 = greeting[-1]\n",
        "\n",
        "print(ch1, ch2, ch3)"
      ]
    },
    {
      "cell_type": "code",
      "execution_count": null,
      "id": "012bcd55",
      "metadata": {
        "id": "012bcd55",
        "outputId": "50f8e4e9-1e43-4e9f-bb50-725ba7eda0fb"
      },
      "outputs": [
        {
          "ename": "TypeError",
          "evalue": "'str' object does not support item assignment",
          "output_type": "error",
          "traceback": [
            "\u001b[0;31m---------------------------------------------------------------------------\u001b[0m",
            "\u001b[0;31mTypeError\u001b[0m                                 Traceback (most recent call last)",
            "Cell \u001b[0;32mIn[223], line 2\u001b[0m\n\u001b[1;32m      1\u001b[0m \u001b[38;5;66;03m# strings are immutable\u001b[39;00m\n\u001b[0;32m----> 2\u001b[0m greeting[\u001b[38;5;241m0\u001b[39m] \u001b[38;5;241m=\u001b[39m \u001b[38;5;124m'\u001b[39m\u001b[38;5;124mG\u001b[39m\u001b[38;5;124m'\u001b[39m\n",
            "\u001b[0;31mTypeError\u001b[0m: 'str' object does not support item assignment"
          ]
        }
      ],
      "source": [
        "# strings are immutable\n",
        "greeting[0] = 'G'"
      ]
    },
    {
      "cell_type": "code",
      "execution_count": null,
      "id": "ec6df5f1",
      "metadata": {
        "id": "ec6df5f1",
        "outputId": "66f0cf9d-a701-45a2-f605-b8181c3fa7ed"
      },
      "outputs": [
        {
          "name": "stdout",
          "output_type": "stream",
          "text": [
            "Hello, World! Have a great day!\n"
          ]
        }
      ],
      "source": [
        "# string concatenation\n",
        "full_greeting = greeting + \" Have a great day!\"\n",
        "print(full_greeting)"
      ]
    },
    {
      "cell_type": "code",
      "execution_count": null,
      "id": "53ecb69d",
      "metadata": {
        "id": "53ecb69d",
        "outputId": "49c7f144-3ca5-4bf3-b5a0-65e59ab81e1b"
      },
      "outputs": [
        {
          "name": "stdout",
          "output_type": "stream",
          "text": [
            "13\n"
          ]
        }
      ],
      "source": [
        "n = len(greeting)\n",
        "print(n)"
      ]
    },
    {
      "cell_type": "code",
      "execution_count": null,
      "id": "d1a3a491",
      "metadata": {
        "id": "d1a3a491"
      },
      "outputs": [],
      "source": [
        "# strings built-in functions\n",
        "words = \"Interview Kickstart\""
      ]
    },
    {
      "cell_type": "code",
      "execution_count": null,
      "id": "c5a2f144",
      "metadata": {
        "id": "c5a2f144",
        "outputId": "66fef7d2-d81a-4e0b-add5-9819545af58a"
      },
      "outputs": [
        {
          "name": "stdout",
          "output_type": "stream",
          "text": [
            "Interview Ready!\n"
          ]
        }
      ],
      "source": [
        "# print(words.upper())\n",
        "# print(words.lower())\n",
        "# print(words.capitalize())\n",
        "# print(words.partition(' '))\n",
        "# print(words.partition('t'))\n",
        "# print(words.split())\n",
        "# print(words.split('t', maxsplit=2))\n",
        "print(words.replace(\"Kickstart\", \"Ready!\"))"
      ]
    },
    {
      "cell_type": "code",
      "execution_count": null,
      "id": "a60239ed",
      "metadata": {
        "id": "a60239ed"
      },
      "outputs": [],
      "source": [
        "words = [\"Interview\", \"Kickstart\"]"
      ]
    },
    {
      "cell_type": "code",
      "execution_count": null,
      "id": "bb48c30d",
      "metadata": {
        "id": "bb48c30d",
        "outputId": "6c049512-1343-4fb8-8a48-ac047233a446"
      },
      "outputs": [
        {
          "name": "stdout",
          "output_type": "stream",
          "text": [
            "Interview, Kickstart\n"
          ]
        }
      ],
      "source": [
        "# print(\" \".join(words))\n",
        "print(\", \".join(words))"
      ]
    },
    {
      "cell_type": "code",
      "execution_count": null,
      "id": "6e935bf0",
      "metadata": {
        "id": "6e935bf0"
      },
      "outputs": [],
      "source": [
        "# strings built-in functions\n",
        "words = \"Interview Kickstart\""
      ]
    },
    {
      "cell_type": "code",
      "execution_count": null,
      "id": "cb9917cd",
      "metadata": {
        "id": "cb9917cd",
        "outputId": "7f82ebf2-9924-4f6c-984b-33ec900e0095"
      },
      "outputs": [
        {
          "name": "stdout",
          "output_type": "stream",
          "text": [
            "-1\n"
          ]
        }
      ],
      "source": [
        "# print(words.find(\"Kickstart\"))\n",
        "print(words.find(\"Ready\"))"
      ]
    },
    {
      "cell_type": "code",
      "execution_count": null,
      "id": "e7e41e5d",
      "metadata": {
        "id": "e7e41e5d",
        "outputId": "6e45cdb2-0c75-4ad3-af35-72cc5bd1dfca"
      },
      "outputs": [
        {
          "ename": "ValueError",
          "evalue": "substring not found",
          "output_type": "error",
          "traceback": [
            "\u001b[0;31m---------------------------------------------------------------------------\u001b[0m",
            "\u001b[0;31mValueError\u001b[0m                                Traceback (most recent call last)",
            "Cell \u001b[0;32mIn[243], line 2\u001b[0m\n\u001b[1;32m      1\u001b[0m \u001b[38;5;66;03m# print(words.index(\"Kickstart\"))\u001b[39;00m\n\u001b[0;32m----> 2\u001b[0m \u001b[38;5;28mprint\u001b[39m(\u001b[43mwords\u001b[49m\u001b[38;5;241;43m.\u001b[39;49m\u001b[43mindex\u001b[49m\u001b[43m(\u001b[49m\u001b[38;5;124;43m\"\u001b[39;49m\u001b[38;5;124;43mReady\u001b[39;49m\u001b[38;5;124;43m\"\u001b[39;49m\u001b[43m)\u001b[49m)\n",
            "\u001b[0;31mValueError\u001b[0m: substring not found"
          ]
        }
      ],
      "source": [
        "# print(words.index(\"Kickstart\"))\n",
        "print(words.index(\"Ready\"))"
      ]
    },
    {
      "cell_type": "code",
      "execution_count": null,
      "id": "2f3e08cf",
      "metadata": {
        "id": "2f3e08cf",
        "outputId": "06de9ae3-9827-436f-a1e3-8087e9ea783d"
      },
      "outputs": [
        {
          "name": "stdout",
          "output_type": "stream",
          "text": [
            "text\n"
          ]
        }
      ],
      "source": [
        "text = \"   text         \"\n",
        "\n",
        "print(text.strip())"
      ]
    },
    {
      "cell_type": "code",
      "execution_count": null,
      "id": "20b4a6e4",
      "metadata": {
        "id": "20b4a6e4",
        "outputId": "bdec47ea-4090-481c-c89a-eaafea362089"
      },
      "outputs": [
        {
          "name": "stdout",
          "output_type": "stream",
          "text": [
            "text\n"
          ]
        }
      ],
      "source": [
        "print(text.lstrip().rstrip())"
      ]
    },
    {
      "cell_type": "code",
      "execution_count": null,
      "id": "6d4c02f5",
      "metadata": {
        "id": "6d4c02f5",
        "outputId": "dc227419-c321-4093-e03b-5f1360a00969"
      },
      "outputs": [
        {
          "name": "stdout",
          "output_type": "stream",
          "text": [
            "wo\n"
          ]
        }
      ],
      "source": [
        "text = \"wowwwww!\"\n",
        "\n",
        "print(text.rstrip(\"!w\"))"
      ]
    },
    {
      "cell_type": "code",
      "execution_count": null,
      "id": "5c31bd00",
      "metadata": {
        "id": "5c31bd00",
        "outputId": "0e757aec-936a-452a-e159-cf1e68fba265"
      },
      "outputs": [
        {
          "name": "stdout",
          "output_type": "stream",
          "text": [
            "True\n"
          ]
        }
      ],
      "source": [
        "text = \"Python is fun\"\n",
        "\n",
        "print(text.startswith(\"Python\"))"
      ]
    },
    {
      "cell_type": "code",
      "execution_count": null,
      "id": "36187bfb",
      "metadata": {
        "id": "36187bfb",
        "outputId": "e3159613-43db-4f68-b9d0-ea7890408f67"
      },
      "outputs": [
        {
          "name": "stdout",
          "output_type": "stream",
          "text": [
            "True\n"
          ]
        }
      ],
      "source": [
        "print(\"12345\".isnumeric())"
      ]
    },
    {
      "cell_type": "code",
      "execution_count": null,
      "id": "4abc1cee",
      "metadata": {
        "id": "4abc1cee",
        "outputId": "300dc790-8d63-4d7a-a471-e921545e3d12"
      },
      "outputs": [
        {
          "name": "stdout",
          "output_type": "stream",
          "text": [
            "True\n"
          ]
        }
      ],
      "source": [
        "print(\"12345abc\".isalnum())"
      ]
    },
    {
      "cell_type": "code",
      "execution_count": null,
      "id": "200a413e",
      "metadata": {
        "id": "200a413e",
        "outputId": "ba386713-a1f4-41da-c20d-26770fd2a529"
      },
      "outputs": [
        {
          "name": "stdout",
          "output_type": "stream",
          "text": [
            "odin\n",
            "Fun\n"
          ]
        }
      ],
      "source": [
        "# String slicing\n",
        "my_string = 'CodingIsFun'\n",
        "\n",
        "# Using indexing sequence\n",
        "print(my_string[1:5])\n",
        "print(my_string[-3:])"
      ]
    },
    {
      "cell_type": "markdown",
      "id": "668329e7",
      "metadata": {
        "id": "668329e7"
      },
      "source": [
        "### LeetCode - Find Pivot Index"
      ]
    },
    {
      "cell_type": "markdown",
      "id": "dc81532c",
      "metadata": {
        "id": "dc81532c"
      },
      "source": [
        "Given an array of integers nums, calculate the pivot index of this array.\n",
        "\n",
        "The pivot index is the index where the sum of all the numbers strictly to the left of the index is equal to the sum of all the numbers strictly to the index's right.\n",
        "\n",
        "If the index is on the left edge of the array, then the left sum is 0 because there are no elements to the left. This also applies to the right edge of the array.\n",
        "\n",
        "Return the leftmost pivot index. If no such index exists, return -1."
      ]
    },
    {
      "cell_type": "code",
      "execution_count": null,
      "id": "aa0e0f67",
      "metadata": {
        "id": "aa0e0f67"
      },
      "outputs": [],
      "source": [
        "# Solution 1\n",
        "def find_left_sum(nums, i):\n",
        "#     return sum(nums[:i])\n",
        "    SUM = 0\n",
        "    for j in range(i):\n",
        "        SUM += nums[j]\n",
        "    return SUM\n",
        "\n",
        "def find_right_sum(nums, i):\n",
        "#     return sum(nums[i+1:])\n",
        "    SUM = 0\n",
        "    for j in range(i+1, len(nums)):\n",
        "        SUM += nums[j]\n",
        "    return SUM\n",
        "\n",
        "def pivotIndex(nums):\n",
        "    for i in range(len(nums)):\n",
        "        left_sum = find_left_sum(nums, i)\n",
        "        right_sum = find_right_sum(nums, i)\n",
        "        if left_sum == right_sum:\n",
        "            return i\n",
        "    return -1"
      ]
    },
    {
      "cell_type": "code",
      "execution_count": null,
      "id": "bcfdffc9",
      "metadata": {
        "id": "bcfdffc9"
      },
      "outputs": [],
      "source": [
        "# Solution 2\n",
        "def pivotIndex(nums):\n",
        "    S = sum(nums)\n",
        "    leftsum = 0\n",
        "    for i, x in enumerate(nums):\n",
        "        if leftsum == (S - leftsum - x):\n",
        "            return i\n",
        "        leftsum += x\n",
        "    return -1"
      ]
    },
    {
      "cell_type": "code",
      "execution_count": null,
      "id": "80219837",
      "metadata": {
        "id": "80219837",
        "outputId": "2d5510b8-c5bc-4b28-fac5-62cc7cd13c01"
      },
      "outputs": [
        {
          "name": "stdout",
          "output_type": "stream",
          "text": [
            "3\n"
          ]
        }
      ],
      "source": [
        "# Test Case 1\n",
        "nums1 = [1, 7, 3, 6, 5, 6]\n",
        "print(pivotIndex(nums1))"
      ]
    },
    {
      "cell_type": "code",
      "execution_count": null,
      "id": "95a410cd",
      "metadata": {
        "id": "95a410cd",
        "outputId": "ed06fadf-253f-4a46-c7bd-762ba13fdbd3"
      },
      "outputs": [
        {
          "name": "stdout",
          "output_type": "stream",
          "text": [
            "-1\n"
          ]
        }
      ],
      "source": [
        "# Test Case 2\n",
        "nums2 = [1, 2, 3]\n",
        "print(pivotIndex(nums2))"
      ]
    },
    {
      "cell_type": "markdown",
      "id": "af0d6e3d",
      "metadata": {
        "id": "af0d6e3d"
      },
      "source": [
        "### LeetCode - Revese Words in a String"
      ]
    },
    {
      "cell_type": "markdown",
      "id": "ddb7de04",
      "metadata": {
        "id": "ddb7de04"
      },
      "source": [
        "Given an input string s, reverse the order of the words.\n",
        "\n",
        "A word is defined as a sequence of non-space characters. The words in s will be separated by at least on space.\n",
        "\n",
        "Return a string of the words in reverse order concatenated by a single space.\n",
        "\n",
        "Note that s may contain leading or trailing spaces or multiple spaces between two words. The returned string should only have a single space separating the words. Do not include any extra spaces."
      ]
    },
    {
      "cell_type": "code",
      "execution_count": null,
      "id": "8d3e63ce",
      "metadata": {
        "id": "8d3e63ce"
      },
      "outputs": [],
      "source": [
        "def reverseWords(s):\n",
        "    list1 = s.split()\n",
        "    list1.reverse()\n",
        "    # list1 = list1[::-1] # Alternatively\n",
        "    str1 = \" \".join(list1)\n",
        "    return str1"
      ]
    },
    {
      "cell_type": "code",
      "execution_count": null,
      "id": "51c5e82e",
      "metadata": {
        "id": "51c5e82e",
        "outputId": "b7bada83-d8f4-4ace-f175-5a6b8e7b4e9f"
      },
      "outputs": [
        {
          "name": "stdout",
          "output_type": "stream",
          "text": [
            "blue is sky The\n"
          ]
        }
      ],
      "source": [
        "# Test Case 1\n",
        "text1 = \"The sky is blue\"\n",
        "print(reverseWords(text1))"
      ]
    },
    {
      "cell_type": "code",
      "execution_count": null,
      "id": "84fbfe8f",
      "metadata": {
        "id": "84fbfe8f",
        "outputId": "6f754b91-3d1e-48a1-e5e2-02f8ba570d60"
      },
      "outputs": [
        {
          "name": "stdout",
          "output_type": "stream",
          "text": [
            "world hello\n"
          ]
        }
      ],
      "source": [
        "# Test Case 2\n",
        "text2 = \"  hello world  \"\n",
        "print(reverseWords(text2))"
      ]
    }
  ],
  "metadata": {
    "kernelspec": {
      "display_name": "Python 3 (ipykernel)",
      "language": "python",
      "name": "python3"
    },
    "language_info": {
      "codemirror_mode": {
        "name": "ipython",
        "version": 3
      },
      "file_extension": ".py",
      "mimetype": "text/x-python",
      "name": "python",
      "nbconvert_exporter": "python",
      "pygments_lexer": "ipython3",
      "version": "3.10.9"
    },
    "colab": {
      "provenance": [],
      "include_colab_link": true
    }
  },
  "nbformat": 4,
  "nbformat_minor": 5
}